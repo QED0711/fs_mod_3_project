{
 "cells": [
  {
   "cell_type": "code",
   "execution_count": 1,
   "metadata": {},
   "outputs": [
    {
     "ename": "ModuleNotFoundError",
     "evalue": "No module named 'pandas_profiling'",
     "output_type": "error",
     "traceback": [
      "\u001b[1;31m---------------------------------------------------------------------------\u001b[0m",
      "\u001b[1;31mModuleNotFoundError\u001b[0m                       Traceback (most recent call last)",
      "\u001b[1;32m<ipython-input-1-1a790db208ea>\u001b[0m in \u001b[0;36m<module>\u001b[1;34m\u001b[0m\n\u001b[0;32m      1\u001b[0m \u001b[1;32mimport\u001b[0m \u001b[0mnumpy\u001b[0m \u001b[1;32mas\u001b[0m \u001b[0mnp\u001b[0m\u001b[1;33m\u001b[0m\u001b[1;33m\u001b[0m\u001b[0m\n\u001b[0;32m      2\u001b[0m \u001b[1;32mimport\u001b[0m \u001b[0mpandas\u001b[0m \u001b[1;32mas\u001b[0m \u001b[0mpd\u001b[0m\u001b[1;33m\u001b[0m\u001b[1;33m\u001b[0m\u001b[0m\n\u001b[1;32m----> 3\u001b[1;33m \u001b[1;32mimport\u001b[0m \u001b[0mpandas_profiling\u001b[0m\u001b[1;33m\u001b[0m\u001b[1;33m\u001b[0m\u001b[0m\n\u001b[0m",
      "\u001b[1;31mModuleNotFoundError\u001b[0m: No module named 'pandas_profiling'"
     ]
    }
   ],
   "source": [
    "import numpy as np \n",
    "import pandas as pd\n",
    "import pandas_profiling"
   ]
  },
  {
   "cell_type": "code",
   "execution_count": null,
   "metadata": {},
   "outputs": [],
   "source": [
    "df = pd.read_csv(\"Meteorite_Landings.csv\")"
   ]
  },
  {
   "cell_type": "code",
   "execution_count": null,
   "metadata": {},
   "outputs": [],
   "source": [
    "df.head()"
   ]
  },
  {
   "cell_type": "code",
   "execution_count": null,
   "metadata": {},
   "outputs": [],
   "source": [
    "df.shape"
   ]
  },
  {
   "cell_type": "code",
   "execution_count": null,
   "metadata": {},
   "outputs": [],
   "source": [
    "df.name.unique().shape"
   ]
  },
  {
   "cell_type": "code",
   "execution_count": null,
   "metadata": {},
   "outputs": [],
   "source": [
    "# df.year = np.where(df.year)"
   ]
  },
  {
   "cell_type": "code",
   "execution_count": 2,
   "metadata": {},
   "outputs": [
    {
     "ename": "NameError",
     "evalue": "name 'pandas_profiling' is not defined",
     "output_type": "error",
     "traceback": [
      "\u001b[1;31m---------------------------------------------------------------------------\u001b[0m",
      "\u001b[1;31mNameError\u001b[0m                                 Traceback (most recent call last)",
      "\u001b[1;32m<ipython-input-2-c5473803fb1b>\u001b[0m in \u001b[0;36m<module>\u001b[1;34m\u001b[0m\n\u001b[1;32m----> 1\u001b[1;33m \u001b[0mpandas_profiling\u001b[0m\u001b[1;33m.\u001b[0m\u001b[0mProfileReport\u001b[0m\u001b[1;33m(\u001b[0m\u001b[0mdf\u001b[0m\u001b[1;33m)\u001b[0m\u001b[1;33m\u001b[0m\u001b[1;33m\u001b[0m\u001b[0m\n\u001b[0m",
      "\u001b[1;31mNameError\u001b[0m: name 'pandas_profiling' is not defined"
     ]
    }
   ],
   "source": [
    "pandas_profiling.ProfileReport(df)"
   ]
  },
  {
   "cell_type": "code",
   "execution_count": 15,
   "metadata": {},
   "outputs": [
    {
     "data": {
      "text/plain": [
       "Index(['name', 'id', 'nametype', 'recclass', 'mass_(g)', 'fall', 'year',\n",
       "       'reclat', 'reclong', 'GeoLocation'],\n",
       "      dtype='object')"
      ]
     },
     "execution_count": 15,
     "metadata": {},
     "output_type": "execute_result"
    }
   ],
   "source": [
    "df.columns"
   ]
  },
  {
   "cell_type": "code",
   "execution_count": 34,
   "metadata": {},
   "outputs": [],
   "source": [
    "df = df[df['mass_(g)'] > 0.0]"
   ]
  },
  {
   "cell_type": "code",
   "execution_count": 38,
   "metadata": {},
   "outputs": [
    {
     "data": {
      "text/plain": [
       "<matplotlib.axes._subplots.AxesSubplot at 0x7f92d1221da0>"
      ]
     },
     "execution_count": 38,
     "metadata": {},
     "output_type": "execute_result"
    },
    {
     "data": {
      "image/png": "[encoded data removed]",
      "text/plain": [
       "<Figure size 432x288 with 1 Axes>"
      ]
     },
     "metadata": {
      "needs_background": "light"
     },
     "output_type": "display_data"
    }
   ],
   "source": [
    "import matplotlib.pyplot as plt\n",
    "import seaborn as sns\n",
    "\n",
    "sns.distplot(df[(df['mass_(g)'].isna() == False) & (df['mass_(g)'] < 5)]['mass_(g)'])\n"
   ]
  },
  {
   "cell_type": "code",
   "execution_count": 45,
   "metadata": {},
   "outputs": [
    {
     "data": {
      "text/html": [
       "<div>\n",
       "<style scoped>\n",
       "    .dataframe tbody tr th:only-of-type {\n",
       "        vertical-align: middle;\n",
       "    }\n",
       "\n",
       "    .dataframe tbody tr th {\n",
       "        vertical-align: top;\n",
       "    }\n",
       "\n",
       "    .dataframe thead th {\n",
       "        text-align: right;\n",
       "    }\n",
       "</style>\n",
       "<table border=\"1\" class=\"dataframe\">\n",
       "  <thead>\n",
       "    <tr style=\"text-align: right;\">\n",
       "      <th></th>\n",
       "      <th>id</th>\n",
       "      <th>mass_(g)</th>\n",
       "      <th>reclat</th>\n",
       "      <th>reclong</th>\n",
       "    </tr>\n",
       "    <tr>\n",
       "      <th>recclass</th>\n",
       "      <th></th>\n",
       "      <th></th>\n",
       "      <th></th>\n",
       "      <th></th>\n",
       "    </tr>\n",
       "  </thead>\n",
       "  <tbody>\n",
       "    <tr>\n",
       "      <th>Fusion crust</th>\n",
       "      <td>43302.50</td>\n",
       "      <td>0.07825</td>\n",
       "      <td>-79.68333</td>\n",
       "      <td>159.75000</td>\n",
       "    </tr>\n",
       "    <tr>\n",
       "      <th>H4(?)</th>\n",
       "      <td>10710.00</td>\n",
       "      <td>0.40000</td>\n",
       "      <td>-72.99667</td>\n",
       "      <td>160.41722</td>\n",
       "    </tr>\n",
       "    <tr>\n",
       "      <th>EH</th>\n",
       "      <td>25302.00</td>\n",
       "      <td>0.59000</td>\n",
       "      <td>-71.50000</td>\n",
       "      <td>35.66667</td>\n",
       "    </tr>\n",
       "    <tr>\n",
       "      <th>Stone-ung</th>\n",
       "      <td>29195.00</td>\n",
       "      <td>0.63000</td>\n",
       "      <td>-71.50000</td>\n",
       "      <td>35.66667</td>\n",
       "    </tr>\n",
       "    <tr>\n",
       "      <th>Chondrite-fusion crust</th>\n",
       "      <td>22575.25</td>\n",
       "      <td>0.71000</td>\n",
       "      <td>-79.83115</td>\n",
       "      <td>161.65529</td>\n",
       "    </tr>\n",
       "  </tbody>\n",
       "</table>\n",
       "</div>"
      ],
      "text/plain": [
       "                              id  mass_(g)    reclat    reclong\n",
       "recclass                                                       \n",
       "Fusion crust            43302.50   0.07825 -79.68333  159.75000\n",
       "H4(?)                   10710.00   0.40000 -72.99667  160.41722\n",
       "EH                      25302.00   0.59000 -71.50000   35.66667\n",
       "Stone-ung               29195.00   0.63000 -71.50000   35.66667\n",
       "Chondrite-fusion crust  22575.25   0.71000 -79.83115  161.65529"
      ]
     },
     "execution_count": 45,
     "metadata": {},
     "output_type": "execute_result"
    }
   ],
   "source": [
    "df.groupby('recclass').mean().sort_values(\"mass_(g)\").head()"
   ]
  },
  {
   "cell_type": "code",
   "execution_count": 54,
   "metadata": {},
   "outputs": [
    {
     "data": {
      "image/png": "[encoded data removed]",
      "text/plain": [
       "<Figure size 432x288 with 1 Axes>"
      ]
     },
     "metadata": {
      "needs_background": "light"
     },
     "output_type": "display_data"
    }
   ],
   "source": [
    "sns.barplot(df.groupby('recclass').mean()['mass_(g)'], df.recclass)\n",
    "plt.show()"
   ]
  },
  {
   "cell_type": "code",
   "execution_count": 57,
   "metadata": {},
   "outputs": [
    {
     "name": "stdout",
     "output_type": "stream",
     "text": [
      "R3.8-6\n",
      "R3.8-5\n",
      "R3.6\n",
      "R4\n",
      "R3-6\n",
      "R3.8\n",
      "R3.5-6\n",
      "R3-4\n",
      "R3\n",
      "R3.6\n",
      "R4\n",
      "R3-6\n",
      "R5\n",
      "R5\n",
      "R5\n",
      "R5\n",
      "R\n",
      "R4\n",
      "R4\n",
      "R4\n",
      "R5\n",
      "R4\n",
      "R4\n",
      "R\n",
      "R4\n",
      "R4\n",
      "R3\n",
      "R4\n",
      "R6\n",
      "R4\n",
      "R6\n",
      "R6\n",
      "R3\n",
      "R4\n",
      "R3\n",
      "R6\n",
      "R3\n",
      "R3\n",
      "R3\n",
      "R3\n",
      "R4\n",
      "R3/4\n",
      "R3/4\n",
      "R3\n",
      "R3\n",
      "R3\n",
      "R3.8\n",
      "R3.9\n",
      "R5\n",
      "R5\n",
      "R3.8-6\n",
      "R4/5\n",
      "R4\n",
      "R3.8\n",
      "R\n",
      "R3.7\n",
      "R4\n",
      "R3-6\n",
      "R3\n",
      "R3-6\n",
      "R4\n",
      "R3.8\n",
      "R4\n",
      "R3-6\n",
      "R4\n",
      "R3.9\n",
      "R3.8\n",
      "R3-6\n",
      "R5\n",
      "R4\n",
      "R3-5\n",
      "R4\n",
      "R3.6\n",
      "R4\n",
      "R4\n",
      "R4\n",
      "R3.4\n",
      "R3-5\n",
      "R3-6\n",
      "R4\n",
      "R3-5\n",
      "R6\n",
      "R3.8\n",
      "R4\n",
      "R5\n",
      "R4\n",
      "R4\n",
      "R4\n",
      "R4\n",
      "R4\n",
      "R5\n",
      "R3-5\n",
      "R3-6\n",
      "R5\n",
      "R5\n",
      "R4\n",
      "R4\n",
      "R3-5\n",
      "R5\n",
      "R3.5-4\n",
      "R3\n",
      "R5\n",
      "R3.9\n",
      "R3.7\n",
      "R3\n",
      "R3-6\n",
      "R4\n",
      "R5\n",
      "R4\n",
      "R4\n",
      "R3.8\n",
      "R4\n",
      "R3.8-6\n",
      "R3.8-6\n",
      "R5\n",
      "R5\n",
      "R5\n",
      "R3\n",
      "R4\n",
      "R5\n",
      "R3-5\n",
      "R3-6\n",
      "R3.8\n",
      "R4\n",
      "R3.8\n",
      "R3.9\n",
      "R6\n",
      "R6\n",
      "R6\n",
      "R6\n",
      "R5\n",
      "R4\n",
      "R4\n",
      "R4\n",
      "R4\n"
     ]
    }
   ],
   "source": [
    "for c in df.recclass:\n",
    "    if c.startswith(\"R\"):\n",
    "        print(c)"
   ]
  },
  {
   "cell_type": "code",
   "execution_count": null,
   "metadata": {},
   "outputs": [],
   "source": []
  }
 ],
 "metadata": {
  "kernelspec": {
   "display_name": "Python 3",
   "language": "python",
   "name": "python3"
  },
  "language_info": {
   "codemirror_mode": {
    "name": "ipython",
    "version": 3
   },
   "file_extension": ".py",
   "mimetype": "text/x-python",
   "name": "python",
   "nbconvert_exporter": "python",
   "pygments_lexer": "ipython3",
   "version": "3.7.3"
  }
 },
 "nbformat": 4,
 "nbformat_minor": 2
}
