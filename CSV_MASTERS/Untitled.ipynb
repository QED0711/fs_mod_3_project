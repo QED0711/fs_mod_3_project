{
 "cells": [
  {
   "cell_type": "code",
   "execution_count": null,
   "metadata": {},
   "outputs": [],
   "source": [
    "import pandas as pd\n",
    "import matplotlib.pyplot as plt\n",
    "%matplotlib inline\n",
    "import seaborn as sns"
   ]
  },
  {
   "cell_type": "code",
   "execution_count": null,
   "metadata": {},
   "outputs": [],
   "source": [
    "geo_dist_df = pd.read_csv(\"CSV_MASTERS/Final.csv\")\n",
    "\n",
    "longitudes = geo_dist_df.reclong.value_counts().index\n",
    "counts = geo_dist_df.reclong.value_counts().values\n",
    "new_df = pd.DataFrame(list(zip(longitudes, counts)), columns=[\"longitudes\", \"strikes\"])\n",
    "\n",
    "new_df\n",
    "\n",
    "sns.lineplot(x='longitudes', y=\"strikes\", data=new_df)"
   ]
  },
  {
   "cell_type": "code",
   "execution_count": null,
   "metadata": {},
   "outputs": [],
   "source": []
  }
 ],
 "metadata": {
  "kernelspec": {
   "display_name": "Python 3",
   "language": "python",
   "name": "python3"
  },
  "language_info": {
   "codemirror_mode": {
    "name": "ipython",
    "version": 3
   },
   "file_extension": ".py",
   "mimetype": "text/x-python",
   "name": "python",
   "nbconvert_exporter": "python",
   "pygments_lexer": "ipython3",
   "version": "3.7.3"
  }
 },
 "nbformat": 4,
 "nbformat_minor": 2
}
