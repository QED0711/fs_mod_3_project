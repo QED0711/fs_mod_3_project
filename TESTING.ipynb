{
 "cells": [
  {
   "cell_type": "markdown",
   "metadata": {},
   "source": [
    "# Statistical Tests\n",
    "\n",
    "## Overview:\n",
    "\n",
    "This notebook contains T-tests and proportion tests on the meteorite and popualation datasets (stored in ./CSV_MASTERS). Contained within, we ask and answer questions using statistical tests about meteorite masses, strike dispursion, and observations by people in various time periods and countries.\n",
    "\n",
    "***\n",
    "## Data:\n",
    "\n",
    "#### [NASA Meteorite Dataset](https://data.nasa.gov/Space-Science/Meteorite-Landings/gh4g-9sfh)\n",
    "\n",
    "##### Supplemental data about countries and landmass pulled from:\n",
    "\n",
    "* #### http://worldpopulationreview.com/countries/countries-by-density/\n",
    "* #### https://photius.com/rankings/world2050_rank.html \n",
    "***\n",
    "\n",
    "***\n",
    "## Index:\n",
    "\n",
    "### [Mass & Classification](http://localhost:8888/notebooks/TESTING.ipynb#T-test-comparsion-of-masses-of-the-meteor-classifications)\n",
    "### [Dispersion Over landmass](#)\n",
    "### [Proportion of Observed Falling Meteorites to Meteorites Found on the Ground ](#)\n",
    "\n",
    "***\n",
    "\n"
   ]
  },
  {
   "cell_type": "markdown",
   "metadata": {},
   "source": [
    "## Imports"
   ]
  },
  {
   "cell_type": "code",
   "execution_count": null,
   "metadata": {},
   "outputs": [],
   "source": [
    "import pandas as pd\n",
    "import statsmodels.api as sm\n",
    "\n",
    "from statsmodels.stats.proportion import proportions_ztest\n",
    "from scipy.stats import ttest_ind\n",
    "\n",
    "import warnings\n",
    "warnings.filterwarnings('ignore')"
   ]
  },
  {
   "cell_type": "markdown",
   "metadata": {},
   "source": [
    "***\n",
    "## T-test comparsion of masses of the meteor classifications\n",
    "\n",
    "### Question: Do the different classifications have different distributions of mass (in grams)?\n",
    "\n",
    "* #### Ho: The distributions of masses are no different between classifications\n",
    "\n",
    "* #### Ha: The distributions of masses are different between classifications"
   ]
  },
  {
   "cell_type": "markdown",
   "metadata": {},
   "source": [
    "### Methodology:\n",
    "\n",
    "We begin by subsetting our dataset into the four main classifications - _Chondrite, Achondrite, Iron, and Stony-Iron_.  \n",
    "\n",
    "From there, we run a t-test on the samples of masses of each classification between each pair of classifications. We display the data in a chart indicating at which alpha levels we can claim statistical significance.  \n",
    "\n",
    "_The function below is commented to explain the code for this test._"
   ]
  },
  {
   "cell_type": "code",
   "execution_count": null,
   "metadata": {},
   "outputs": [],
   "source": [
    "def test_classification_masses(df, classification_names=(\"Chondrite\", \"Achondrite\", \"Iron\", \"Stony-Iron\")):\n",
    "    \"\"\"\n",
    "    Accepts the names of the classifications (or a subset of classifications)\n",
    "    \n",
    "    For each classification, runs a t test against all others to determine if their masses are from the same population\n",
    "    \n",
    "    Returns a dataframe with the results. \n",
    "    (For the aplha columns, True and False refers to the rejection of the null hypothesis) \n",
    "    \"\"\"\n",
    "    \n",
    "    \n",
    "    classification_mass = []\n",
    "    # append a list of masses to the classification_mass list for each name\n",
    "    for name in classification_names:\n",
    "        classification_mass.append(df[df.major_classification == name].mass)\n",
    "    \n",
    "    test_results = [] # where we will be appending all our results\n",
    "    alpha_list = (0.1, 0.05, 0.01) # the different alpha levels to test\n",
    "    for i in range(len(classification_mass)):\n",
    "        for j in range(i + 1, len(classification_mass)):\n",
    "            samp1, samp2 = (classification_names[i],classification_names[j]) \n",
    "            # test each classification against the others. \n",
    "            t_stat, p_value = ttest_ind(classification_mass[i], classification_mass[j], equal_var=False)\n",
    "            # given the p values, check against list of alphas\n",
    "            alpha_1, alpha_05, alpha_01 = (p_value < alpha_list[0],p_value < alpha_list[1], p_value < alpha_list[2])\n",
    "            #  append everything to the rest results as a tuple\n",
    "            test_results.append((samp1, samp2, t_stat, p_value, alpha_1, alpha_05, alpha_01))\n",
    "    # create and return a dataframe of the results        \n",
    "    return pd.DataFrame(test_results, columns=(\"sample_1\", \"sample_2\", \"t_stat\", \"p_value\", \"alpha 10%\", \"alpha 5%\", \"alpha 1%\"))"
   ]
  },
  {
   "cell_type": "code",
   "execution_count": null,
   "metadata": {},
   "outputs": [],
   "source": [
    "df = pd.read_csv(\"CSV_MASTERS/Final.csv\")"
   ]
  },
  {
   "cell_type": "code",
   "execution_count": null,
   "metadata": {},
   "outputs": [],
   "source": [
    "# test_classification_masses(df).to_csv(\"tables/classification_test.csv\", index=False)\n",
    "test_classification_masses(df)"
   ]
  },
  {
   "cell_type": "markdown",
   "metadata": {},
   "source": [
    "### Analysis: \n",
    "\n",
    "In the alpha columns of the chart above, we can read those as **whether or not we we able to reject our null hypothesis**.   \n",
    "\n",
    "Overall, it appears that mass distributions are different for the various classifications. However, the exception is that Chondrite and Achondrite classifications do not have statistically different mass distributions. [Based on the composition of Chondrite and Achondrite](https://en.wikipedia.org/wiki/Meteorite_classification) meteorites vs the composition of Iron and Stony-Iron, these classifications make sense, as Iron meteortites are made of denser, heavier material.  "
   ]
  },
  {
   "cell_type": "markdown",
   "metadata": {},
   "source": [
    "***\n",
    "## Strikes Per Global Quadrant\n",
    "\n",
    "### Question: Do meteorites fall with equal distribution across all landmasses of the plant?\n",
    "\n",
    "* #### Ho: Meteorites fall with equal frequency over the landmasses of the globe.  \n",
    "\n",
    "* #### Ha: Meteorites do not fall with equal frequency over the landmasses of the globe. "
   ]
  },
  {
   "cell_type": "markdown",
   "metadata": {},
   "source": [
    "### Methodology:\n",
    "\n",
    "We test the dispersion of meteorites over the landmasses in two different ways.  \n",
    "\n",
    "We start broadly and look at hemispheres and quadrants of the earth to see if if any of them have a statistically higher number of meteorite strikes.  \n",
    "\n",
    "The above method does not account for the proportion of landmass to oceans. Our second methodology does this by comparing various regions (e.g. Asia, Latin America, North America, etc.). Using this methodology, we can get a much more precise picture of strikes over landmass."
   ]
  },
  {
   "cell_type": "markdown",
   "metadata": {},
   "source": [
    "## Strikes per hemisphere"
   ]
  },
  {
   "cell_type": "code",
   "execution_count": 14,
   "metadata": {},
   "outputs": [
    {
     "data": {
      "text/html": [
       "<div>\n",
       "<style scoped>\n",
       "    .dataframe tbody tr th:only-of-type {\n",
       "        vertical-align: middle;\n",
       "    }\n",
       "\n",
       "    .dataframe tbody tr th {\n",
       "        vertical-align: top;\n",
       "    }\n",
       "\n",
       "    .dataframe thead th {\n",
       "        text-align: right;\n",
       "    }\n",
       "</style>\n",
       "<table border=\"1\" class=\"dataframe\">\n",
       "  <thead>\n",
       "    <tr style=\"text-align: right;\">\n",
       "      <th></th>\n",
       "      <th>t_stat</th>\n",
       "      <th>p_value</th>\n",
       "      <th>alpha 10%</th>\n",
       "      <th>alpha 5%</th>\n",
       "      <th>alpha 1%</th>\n",
       "    </tr>\n",
       "  </thead>\n",
       "  <tbody>\n",
       "    <tr>\n",
       "      <th>0</th>\n",
       "      <td>2.923305</td>\n",
       "      <td>0.00347</td>\n",
       "      <td>True</td>\n",
       "      <td>True</td>\n",
       "      <td>True</td>\n",
       "    </tr>\n",
       "  </tbody>\n",
       "</table>\n",
       "</div>"
      ],
      "text/plain": [
       "     t_stat  p_value  alpha 10%  alpha 5%  alpha 1%\n",
       "0  2.923305  0.00347       True      True      True"
      ]
     },
     "execution_count": 14,
     "metadata": {},
     "output_type": "execute_result"
    }
   ],
   "source": [
    "def test_hemisphere(df):\n",
    "    north = df[df.reclat > 0].mass\n",
    "    south = df[df.reclat < 0].mass\n",
    "    \n",
    "    t_stat, p_value = ttest_ind(north, south, equal_var=False)\n",
    "    alpha_list = (0.1, 0.05, 0.01) # the different alpha levels to test\n",
    "    \n",
    "    alpha_1, alpha_05, alpha_01 = (p_value < alpha_list[0],p_value < alpha_list[1], p_value < alpha_list[2])\n",
    "\n",
    "    return pd.DataFrame([(t_stat, p_value, alpha_1, alpha_05, alpha_01)], columns=[\"t_stat\", \"p_value\", \"alpha 10%\", \"alpha 5%\", \"alpha 1%\"])\n",
    "    \n",
    "test_hemisphere(df)"
   ]
  },
  {
   "cell_type": "code",
   "execution_count": 15,
   "metadata": {},
   "outputs": [],
   "source": [
    "def test_quadrants(df):\n",
    "    # Subset the various quadrants\n",
    "    ne = df[(df.reclat >= 0) & (df.reclong >= 0)].mass\n",
    "    nw = df[(df.reclat >= 0) & (df.reclong <= 0)].mass\n",
    "    sw = df[(df.reclat <= 0) & (df.reclong <= 0)].mass\n",
    "    se = df[(df.reclat <= 0) & (df.reclong >= 0)].mass \n",
    "    \n",
    "    quadrant_data = (ne, nw, sw, se)\n",
    "    quadrant_names = (\"NE\", \"NW\", \"SW\", \"SE\")\n",
    "    \n",
    "    test_results = [] # where we will be appending all our results\n",
    "    alpha_list = (0.1, 0.05, 0.01) # the different alpha levels to test\n",
    "    \n",
    "    for i in range(4):\n",
    "        for j in range(i + 1, 4):\n",
    "            # Run the test for each quadrant comparing it to each other quadrant. \n",
    "            samp1, samp2 = quadrant_names[i], quadrant_names[j]\n",
    "            t_stat, p_value = ttest_ind(quadrant_data[i], quadrant_data[j], equal_var=False)\n",
    "            alpha_1, alpha_05, alpha_01 = (p_value < alpha_list[0],p_value < alpha_list[1], p_value < alpha_list[2])\n",
    "            \n",
    "            test_results.append((samp1, samp2, t_stat, p_value, alpha_1, alpha_05, alpha_01))\n",
    "    \n",
    "    return pd.DataFrame(test_results, columns=[\"quadrant_1\", \"quadrant_2\", \"t_stat\", \"p_value\", \"alpha 10%\", \"alpha 5%\", \"alpha 1%\"])\n",
    "            "
   ]
  },
  {
   "cell_type": "code",
   "execution_count": 16,
   "metadata": {},
   "outputs": [
    {
     "data": {
      "text/html": [
       "<div>\n",
       "<style scoped>\n",
       "    .dataframe tbody tr th:only-of-type {\n",
       "        vertical-align: middle;\n",
       "    }\n",
       "\n",
       "    .dataframe tbody tr th {\n",
       "        vertical-align: top;\n",
       "    }\n",
       "\n",
       "    .dataframe thead th {\n",
       "        text-align: right;\n",
       "    }\n",
       "</style>\n",
       "<table border=\"1\" class=\"dataframe\">\n",
       "  <thead>\n",
       "    <tr style=\"text-align: right;\">\n",
       "      <th></th>\n",
       "      <th>quadrant_1</th>\n",
       "      <th>quadrant_2</th>\n",
       "      <th>t_stat</th>\n",
       "      <th>p_value</th>\n",
       "      <th>alpha 10%</th>\n",
       "      <th>alpha 5%</th>\n",
       "      <th>alpha 1%</th>\n",
       "    </tr>\n",
       "  </thead>\n",
       "  <tbody>\n",
       "    <tr>\n",
       "      <th>0</th>\n",
       "      <td>NE</td>\n",
       "      <td>NW</td>\n",
       "      <td>-2.541272</td>\n",
       "      <td>0.011108</td>\n",
       "      <td>True</td>\n",
       "      <td>True</td>\n",
       "      <td>False</td>\n",
       "    </tr>\n",
       "    <tr>\n",
       "      <th>1</th>\n",
       "      <td>NE</td>\n",
       "      <td>SW</td>\n",
       "      <td>-0.919997</td>\n",
       "      <td>0.357687</td>\n",
       "      <td>False</td>\n",
       "      <td>False</td>\n",
       "      <td>False</td>\n",
       "    </tr>\n",
       "    <tr>\n",
       "      <th>2</th>\n",
       "      <td>NE</td>\n",
       "      <td>SE</td>\n",
       "      <td>1.629069</td>\n",
       "      <td>0.103324</td>\n",
       "      <td>False</td>\n",
       "      <td>False</td>\n",
       "      <td>False</td>\n",
       "    </tr>\n",
       "    <tr>\n",
       "      <th>3</th>\n",
       "      <td>NW</td>\n",
       "      <td>SW</td>\n",
       "      <td>1.378149</td>\n",
       "      <td>0.168233</td>\n",
       "      <td>False</td>\n",
       "      <td>False</td>\n",
       "      <td>False</td>\n",
       "    </tr>\n",
       "    <tr>\n",
       "      <th>4</th>\n",
       "      <td>NW</td>\n",
       "      <td>SE</td>\n",
       "      <td>2.870973</td>\n",
       "      <td>0.004130</td>\n",
       "      <td>True</td>\n",
       "      <td>True</td>\n",
       "      <td>True</td>\n",
       "    </tr>\n",
       "    <tr>\n",
       "      <th>5</th>\n",
       "      <td>SW</td>\n",
       "      <td>SE</td>\n",
       "      <td>1.300079</td>\n",
       "      <td>0.193734</td>\n",
       "      <td>False</td>\n",
       "      <td>False</td>\n",
       "      <td>False</td>\n",
       "    </tr>\n",
       "  </tbody>\n",
       "</table>\n",
       "</div>"
      ],
      "text/plain": [
       "  quadrant_1 quadrant_2    t_stat   p_value  alpha 10%  alpha 5%  alpha 1%\n",
       "0         NE         NW -2.541272  0.011108       True      True     False\n",
       "1         NE         SW -0.919997  0.357687      False     False     False\n",
       "2         NE         SE  1.629069  0.103324      False     False     False\n",
       "3         NW         SW  1.378149  0.168233      False     False     False\n",
       "4         NW         SE  2.870973  0.004130       True      True      True\n",
       "5         SW         SE  1.300079  0.193734      False     False     False"
      ]
     },
     "execution_count": 16,
     "metadata": {},
     "output_type": "execute_result"
    }
   ],
   "source": [
    "# test_quadrants(df).to_csv(\"tables/landmass.csv\", index=False)\n",
    "test_quadrants(df)"
   ]
  },
  {
   "cell_type": "markdown",
   "metadata": {},
   "source": [
    "### Analysis:\n",
    "\n",
    "Again, the above results can be read as whether or not we were able to reject the null hypothisis. In most cases, we found that the number of strikes in a particular hemisphere or quadrant was not significantly different from other. Of note, the NW quadrant vs the SE quadrant does appear to be statistically significant. However, as stated above, this does not account for landmass in those regions. The SE region has less landmass, and therefore we would expect fewer reports of meteorites in this area.    \n",
    "\n",
    "The region analysis below accounts for this landmass issue"
   ]
  },
  {
   "cell_type": "markdown",
   "metadata": {},
   "source": [
    "## Strikes By Region"
   ]
  },
  {
   "cell_type": "code",
   "execution_count": 17,
   "metadata": {},
   "outputs": [],
   "source": [
    "earth_strikes = pd.read_csv(\"CSV_MASTERS/GeoEarth_with_num_strikes\")\n",
    "earth_strikes.loc[121, \"subregion\"] = \"Antarctica\"\n",
    "earth_strikes.loc[121, \"region_wb\"] = \"Antarctica\""
   ]
  },
  {
   "cell_type": "code",
   "execution_count": 18,
   "metadata": {},
   "outputs": [],
   "source": [
    "region = list(earth_strikes.region_wb.unique())\n",
    "\n",
    "samples = []\n",
    "\n",
    "for r in region:\n",
    "    samples.append(earth_strikes[earth_strikes.region_wb == r].num_strikes)\n",
    "\n",
    "\n",
    "    \n",
    "test_results = []\n",
    "alpha_list = (0.1, 0.05, 0.01) # the different alpha levels to test\n",
    "for i in range(len(samples)):\n",
    "    for j in range(i + 1, len(samples)):\n",
    "        samp1, samp2 = samples[i], samples[j]\n",
    "        t_stat, p_value = ttest_ind(samp1, samp2, equal_var=False)\n",
    "        alpha_1, alpha_05, alpha_01 = (p_value < alpha_list[0],p_value < alpha_list[1], p_value < alpha_list[2])\n",
    "        \n",
    "        test_results.append((region[i], region[j], t_stat, p_value, alpha_1, alpha_05, alpha_01))\n",
    "        \n",
    "region_strikes = pd.DataFrame(test_results, columns=[\"Region 1\", \"Region 2\", \"t-stat\", \"p-value\", \"alpha 10%\", \"alpha 5%\", \"alpha 1%\"])\n",
    "\n",
    "region_strikes.dropna(inplace=True)"
   ]
  },
  {
   "cell_type": "code",
   "execution_count": 19,
   "metadata": {},
   "outputs": [
    {
     "data": {
      "text/html": [
       "<div>\n",
       "<style scoped>\n",
       "    .dataframe tbody tr th:only-of-type {\n",
       "        vertical-align: middle;\n",
       "    }\n",
       "\n",
       "    .dataframe tbody tr th {\n",
       "        vertical-align: top;\n",
       "    }\n",
       "\n",
       "    .dataframe thead th {\n",
       "        text-align: right;\n",
       "    }\n",
       "</style>\n",
       "<table border=\"1\" class=\"dataframe\">\n",
       "  <thead>\n",
       "    <tr style=\"text-align: right;\">\n",
       "      <th></th>\n",
       "      <th>Region 1</th>\n",
       "      <th>Region 2</th>\n",
       "      <th>t-stat</th>\n",
       "      <th>p-value</th>\n",
       "      <th>alpha 10%</th>\n",
       "      <th>alpha 5%</th>\n",
       "      <th>alpha 1%</th>\n",
       "    </tr>\n",
       "  </thead>\n",
       "  <tbody>\n",
       "    <tr>\n",
       "      <th>0</th>\n",
       "      <td>Latin America &amp; Caribbean</td>\n",
       "      <td>North America</td>\n",
       "      <td>-0.886507</td>\n",
       "      <td>0.534286</td>\n",
       "      <td>False</td>\n",
       "      <td>False</td>\n",
       "      <td>False</td>\n",
       "    </tr>\n",
       "    <tr>\n",
       "      <th>1</th>\n",
       "      <td>Latin America &amp; Caribbean</td>\n",
       "      <td>Europe &amp; Central Asia</td>\n",
       "      <td>1.238742</td>\n",
       "      <td>0.234426</td>\n",
       "      <td>False</td>\n",
       "      <td>False</td>\n",
       "      <td>False</td>\n",
       "    </tr>\n",
       "    <tr>\n",
       "      <th>2</th>\n",
       "      <td>Latin America &amp; Caribbean</td>\n",
       "      <td>Middle East &amp; North Africa</td>\n",
       "      <td>-0.960486</td>\n",
       "      <td>0.347235</td>\n",
       "      <td>False</td>\n",
       "      <td>False</td>\n",
       "      <td>False</td>\n",
       "    </tr>\n",
       "    <tr>\n",
       "      <th>3</th>\n",
       "      <td>Latin America &amp; Caribbean</td>\n",
       "      <td>South Asia</td>\n",
       "      <td>1.056172</td>\n",
       "      <td>0.306036</td>\n",
       "      <td>False</td>\n",
       "      <td>False</td>\n",
       "      <td>False</td>\n",
       "    </tr>\n",
       "    <tr>\n",
       "      <th>4</th>\n",
       "      <td>Latin America &amp; Caribbean</td>\n",
       "      <td>East Asia &amp; Pacific</td>\n",
       "      <td>0.791141</td>\n",
       "      <td>0.438777</td>\n",
       "      <td>False</td>\n",
       "      <td>False</td>\n",
       "      <td>False</td>\n",
       "    </tr>\n",
       "    <tr>\n",
       "      <th>5</th>\n",
       "      <td>Latin America &amp; Caribbean</td>\n",
       "      <td>Sub-Saharan Africa</td>\n",
       "      <td>1.220304</td>\n",
       "      <td>0.240944</td>\n",
       "      <td>False</td>\n",
       "      <td>False</td>\n",
       "      <td>False</td>\n",
       "    </tr>\n",
       "    <tr>\n",
       "      <th>8</th>\n",
       "      <td>North America</td>\n",
       "      <td>Europe &amp; Central Asia</td>\n",
       "      <td>1.055162</td>\n",
       "      <td>0.482911</td>\n",
       "      <td>False</td>\n",
       "      <td>False</td>\n",
       "      <td>False</td>\n",
       "    </tr>\n",
       "    <tr>\n",
       "      <th>9</th>\n",
       "      <td>North America</td>\n",
       "      <td>Middle East &amp; North Africa</td>\n",
       "      <td>0.594272</td>\n",
       "      <td>0.648478</td>\n",
       "      <td>False</td>\n",
       "      <td>False</td>\n",
       "      <td>False</td>\n",
       "    </tr>\n",
       "    <tr>\n",
       "      <th>10</th>\n",
       "      <td>North America</td>\n",
       "      <td>South Asia</td>\n",
       "      <td>1.034743</td>\n",
       "      <td>0.488864</td>\n",
       "      <td>False</td>\n",
       "      <td>False</td>\n",
       "      <td>False</td>\n",
       "    </tr>\n",
       "    <tr>\n",
       "      <th>11</th>\n",
       "      <td>North America</td>\n",
       "      <td>East Asia &amp; Pacific</td>\n",
       "      <td>1.002038</td>\n",
       "      <td>0.498793</td>\n",
       "      <td>False</td>\n",
       "      <td>False</td>\n",
       "      <td>False</td>\n",
       "    </tr>\n",
       "    <tr>\n",
       "      <th>12</th>\n",
       "      <td>North America</td>\n",
       "      <td>Sub-Saharan Africa</td>\n",
       "      <td>1.053137</td>\n",
       "      <td>0.483496</td>\n",
       "      <td>False</td>\n",
       "      <td>False</td>\n",
       "      <td>False</td>\n",
       "    </tr>\n",
       "    <tr>\n",
       "      <th>15</th>\n",
       "      <td>Europe &amp; Central Asia</td>\n",
       "      <td>Middle East &amp; North Africa</td>\n",
       "      <td>-1.691377</td>\n",
       "      <td>0.111416</td>\n",
       "      <td>False</td>\n",
       "      <td>False</td>\n",
       "      <td>False</td>\n",
       "    </tr>\n",
       "    <tr>\n",
       "      <th>16</th>\n",
       "      <td>Europe &amp; Central Asia</td>\n",
       "      <td>South Asia</td>\n",
       "      <td>-0.628847</td>\n",
       "      <td>0.562134</td>\n",
       "      <td>False</td>\n",
       "      <td>False</td>\n",
       "      <td>False</td>\n",
       "    </tr>\n",
       "    <tr>\n",
       "      <th>17</th>\n",
       "      <td>Europe &amp; Central Asia</td>\n",
       "      <td>East Asia &amp; Pacific</td>\n",
       "      <td>-1.126819</td>\n",
       "      <td>0.276092</td>\n",
       "      <td>False</td>\n",
       "      <td>False</td>\n",
       "      <td>False</td>\n",
       "    </tr>\n",
       "    <tr>\n",
       "      <th>18</th>\n",
       "      <td>Europe &amp; Central Asia</td>\n",
       "      <td>Sub-Saharan Africa</td>\n",
       "      <td>-0.169859</td>\n",
       "      <td>0.866096</td>\n",
       "      <td>False</td>\n",
       "      <td>False</td>\n",
       "      <td>False</td>\n",
       "    </tr>\n",
       "    <tr>\n",
       "      <th>21</th>\n",
       "      <td>Middle East &amp; North Africa</td>\n",
       "      <td>South Asia</td>\n",
       "      <td>1.603710</td>\n",
       "      <td>0.129055</td>\n",
       "      <td>False</td>\n",
       "      <td>False</td>\n",
       "      <td>False</td>\n",
       "    </tr>\n",
       "    <tr>\n",
       "      <th>22</th>\n",
       "      <td>Middle East &amp; North Africa</td>\n",
       "      <td>East Asia &amp; Pacific</td>\n",
       "      <td>1.469242</td>\n",
       "      <td>0.161235</td>\n",
       "      <td>False</td>\n",
       "      <td>False</td>\n",
       "      <td>False</td>\n",
       "    </tr>\n",
       "    <tr>\n",
       "      <th>23</th>\n",
       "      <td>Middle East &amp; North Africa</td>\n",
       "      <td>Sub-Saharan Africa</td>\n",
       "      <td>1.682679</td>\n",
       "      <td>0.113062</td>\n",
       "      <td>False</td>\n",
       "      <td>False</td>\n",
       "      <td>False</td>\n",
       "    </tr>\n",
       "    <tr>\n",
       "      <th>26</th>\n",
       "      <td>South Asia</td>\n",
       "      <td>East Asia &amp; Pacific</td>\n",
       "      <td>-0.578046</td>\n",
       "      <td>0.570232</td>\n",
       "      <td>False</td>\n",
       "      <td>False</td>\n",
       "      <td>False</td>\n",
       "    </tr>\n",
       "    <tr>\n",
       "      <th>27</th>\n",
       "      <td>South Asia</td>\n",
       "      <td>Sub-Saharan Africa</td>\n",
       "      <td>0.542590</td>\n",
       "      <td>0.610881</td>\n",
       "      <td>False</td>\n",
       "      <td>False</td>\n",
       "      <td>False</td>\n",
       "    </tr>\n",
       "    <tr>\n",
       "      <th>30</th>\n",
       "      <td>East Asia &amp; Pacific</td>\n",
       "      <td>Sub-Saharan Africa</td>\n",
       "      <td>1.061856</td>\n",
       "      <td>0.302558</td>\n",
       "      <td>False</td>\n",
       "      <td>False</td>\n",
       "      <td>False</td>\n",
       "    </tr>\n",
       "  </tbody>\n",
       "</table>\n",
       "</div>"
      ],
      "text/plain": [
       "                      Region 1                    Region 2    t-stat  \\\n",
       "0    Latin America & Caribbean               North America -0.886507   \n",
       "1    Latin America & Caribbean       Europe & Central Asia  1.238742   \n",
       "2    Latin America & Caribbean  Middle East & North Africa -0.960486   \n",
       "3    Latin America & Caribbean                  South Asia  1.056172   \n",
       "4    Latin America & Caribbean         East Asia & Pacific  0.791141   \n",
       "5    Latin America & Caribbean          Sub-Saharan Africa  1.220304   \n",
       "8                North America       Europe & Central Asia  1.055162   \n",
       "9                North America  Middle East & North Africa  0.594272   \n",
       "10               North America                  South Asia  1.034743   \n",
       "11               North America         East Asia & Pacific  1.002038   \n",
       "12               North America          Sub-Saharan Africa  1.053137   \n",
       "15       Europe & Central Asia  Middle East & North Africa -1.691377   \n",
       "16       Europe & Central Asia                  South Asia -0.628847   \n",
       "17       Europe & Central Asia         East Asia & Pacific -1.126819   \n",
       "18       Europe & Central Asia          Sub-Saharan Africa -0.169859   \n",
       "21  Middle East & North Africa                  South Asia  1.603710   \n",
       "22  Middle East & North Africa         East Asia & Pacific  1.469242   \n",
       "23  Middle East & North Africa          Sub-Saharan Africa  1.682679   \n",
       "26                  South Asia         East Asia & Pacific -0.578046   \n",
       "27                  South Asia          Sub-Saharan Africa  0.542590   \n",
       "30         East Asia & Pacific          Sub-Saharan Africa  1.061856   \n",
       "\n",
       "     p-value  alpha 10%  alpha 5%  alpha 1%  \n",
       "0   0.534286      False     False     False  \n",
       "1   0.234426      False     False     False  \n",
       "2   0.347235      False     False     False  \n",
       "3   0.306036      False     False     False  \n",
       "4   0.438777      False     False     False  \n",
       "5   0.240944      False     False     False  \n",
       "8   0.482911      False     False     False  \n",
       "9   0.648478      False     False     False  \n",
       "10  0.488864      False     False     False  \n",
       "11  0.498793      False     False     False  \n",
       "12  0.483496      False     False     False  \n",
       "15  0.111416      False     False     False  \n",
       "16  0.562134      False     False     False  \n",
       "17  0.276092      False     False     False  \n",
       "18  0.866096      False     False     False  \n",
       "21  0.129055      False     False     False  \n",
       "22  0.161235      False     False     False  \n",
       "23  0.113062      False     False     False  \n",
       "26  0.570232      False     False     False  \n",
       "27  0.610881      False     False     False  \n",
       "30  0.302558      False     False     False  "
      ]
     },
     "execution_count": 19,
     "metadata": {},
     "output_type": "execute_result"
    }
   ],
   "source": [
    "# region_strikes.to_csv(\"tables/strikes_per_region.csv\", index=False)\n",
    "region_strikes"
   ]
  },
  {
   "cell_type": "markdown",
   "metadata": {},
   "source": [
    "### Analysis: \n",
    "\n",
    "As can be seen in this t-test chart, we fail to reject the null hypothesis in every situation. This, combined with our previous analysis of hemispheres and quadrants, would seem to indicate that meteorites do fall with equal frequency across the landmass of the plant. "
   ]
  },
  {
   "cell_type": "markdown",
   "metadata": {},
   "source": [
    "## Proportion test of found to fell"
   ]
  },
  {
   "cell_type": "code",
   "execution_count": 20,
   "metadata": {},
   "outputs": [
    {
     "data": {
      "text/html": [
       "<div>\n",
       "<style scoped>\n",
       "    .dataframe tbody tr th:only-of-type {\n",
       "        vertical-align: middle;\n",
       "    }\n",
       "\n",
       "    .dataframe tbody tr th {\n",
       "        vertical-align: top;\n",
       "    }\n",
       "\n",
       "    .dataframe thead th {\n",
       "        text-align: right;\n",
       "    }\n",
       "</style>\n",
       "<table border=\"1\" class=\"dataframe\">\n",
       "  <thead>\n",
       "    <tr style=\"text-align: right;\">\n",
       "      <th></th>\n",
       "      <th>Country_1</th>\n",
       "      <th>Country_2</th>\n",
       "      <th>z_stat</th>\n",
       "      <th>p_value</th>\n",
       "    </tr>\n",
       "  </thead>\n",
       "  <tbody>\n",
       "    <tr>\n",
       "      <th>0</th>\n",
       "      <td>United States</td>\n",
       "      <td>China</td>\n",
       "      <td>-16.022224</td>\n",
       "      <td>8.939509e-58</td>\n",
       "    </tr>\n",
       "  </tbody>\n",
       "</table>\n",
       "</div>"
      ],
      "text/plain": [
       "       Country_1 Country_2     z_stat       p_value\n",
       "0  United States     China -16.022224  8.939509e-58"
      ]
     },
     "execution_count": 20,
     "metadata": {},
     "output_type": "execute_result"
    }
   ],
   "source": [
    "def test_fell_sightings_proportions(df, country1, country2):\n",
    "    # Excerpt the two countries from the dataframe\n",
    "    ctry1 = df[df.country == country1]\n",
    "    ctry2 = df[df.country == country2]\n",
    "    \n",
    "    # get the total number of sightings/findings in a country\n",
    "    ctry1_total = len(ctry1.fall)\n",
    "    ctry2_total = len(ctry2.fall)\n",
    "    \n",
    "    #get the total number of sightings while falling in each country\n",
    "    ctry1_sightings = len(ctry1[ctry1.fall == 'Fell'])\n",
    "    ctry2_sightings = len(ctry2[ctry2.fall == 'Fell'])\n",
    "    \n",
    "    # run the proportion test\n",
    "    z_stat, p_value = proportions_ztest([ctry1_sightings, ctry2_sightings], [ctry1_total, ctry2_total])\n",
    "    \n",
    "    \n",
    "    return pd.DataFrame([(country1, country2, z_stat, p_value)], columns=(\"Country_1\", \"Country_2\", \"z_stat\", \"p_value\"))\n",
    "\n",
    "    \n",
    "test_fell_sightings_proportions(df, \"United States\", \"China\")\n",
    "    "
   ]
  },
  {
   "cell_type": "markdown",
   "metadata": {},
   "source": [
    "## Proportion Test of sightings by range of years"
   ]
  },
  {
   "cell_type": "code",
   "execution_count": 21,
   "metadata": {},
   "outputs": [],
   "source": [
    "def test_fall_sightings_dates(df, start_date, split_date, end_date):\n",
    "    \n",
    "    range_1 = df[(df.year >= start_date) & (df.year < split_date)]\n",
    "    range_2 = df[(df.year >= split_date) & (df.year <= end_date )]\n",
    "    \n",
    "    range_1_name = f\"{start_date} - {split_date - 1}\"\n",
    "    range_2_name = f\"{split_date} - {end_date}\"\n",
    "    \n",
    "    range_1_total = len(range_1.fall)\n",
    "    range_2_total = len(range_2.fall)\n",
    "    \n",
    "    range_1_sightings = len(range_1[range_1.fall == \"Fell\"])\n",
    "    range_2_sightings = len(range_2[range_2.fall == \"Fell\"])\n",
    "    \n",
    "    z_stat, p_value = proportions_ztest((range_1_sightings, range_2_sightings), (range_1_total, range_2_total))\n",
    "                                        \n",
    "    return pd.DataFrame(\n",
    "        [(range_1_name, range_2_name, z_stat, p_value)],\n",
    "        columns=(\"Date Range 1\", \"Date Range 2\", \"z-stat\", \"p-value\")\n",
    ")"
   ]
  },
  {
   "cell_type": "code",
   "execution_count": 22,
   "metadata": {},
   "outputs": [
    {
     "data": {
      "text/html": [
       "<div>\n",
       "<style scoped>\n",
       "    .dataframe tbody tr th:only-of-type {\n",
       "        vertical-align: middle;\n",
       "    }\n",
       "\n",
       "    .dataframe tbody tr th {\n",
       "        vertical-align: top;\n",
       "    }\n",
       "\n",
       "    .dataframe thead th {\n",
       "        text-align: right;\n",
       "    }\n",
       "</style>\n",
       "<table border=\"1\" class=\"dataframe\">\n",
       "  <thead>\n",
       "    <tr style=\"text-align: right;\">\n",
       "      <th></th>\n",
       "      <th>Date Range 1</th>\n",
       "      <th>Date Range 2</th>\n",
       "      <th>z-stat</th>\n",
       "      <th>p-value</th>\n",
       "    </tr>\n",
       "  </thead>\n",
       "  <tbody>\n",
       "    <tr>\n",
       "      <th>0</th>\n",
       "      <td>1950 - 1989</td>\n",
       "      <td>1990 - 2010</td>\n",
       "      <td>9.6358</td>\n",
       "      <td>5.645074e-22</td>\n",
       "    </tr>\n",
       "  </tbody>\n",
       "</table>\n",
       "</div>"
      ],
      "text/plain": [
       "  Date Range 1 Date Range 2  z-stat       p-value\n",
       "0  1950 - 1989  1990 - 2010  9.6358  5.645074e-22"
      ]
     },
     "execution_count": 22,
     "metadata": {},
     "output_type": "execute_result"
    }
   ],
   "source": [
    "test_fall_sightings_dates(df, 1950, 1990, 2010).to_csv('tables/proportion_fell_by_year.csv', index=False)\n",
    "test_fall_sightings_dates(df, 1950, 1990, 2010)"
   ]
  },
  {
   "cell_type": "markdown",
   "metadata": {},
   "source": [
    "## The effect of population size on meteor sightings"
   ]
  },
  {
   "cell_type": "markdown",
   "metadata": {},
   "source": [
    "Pull in population data and and subset the year 2000 +- 10."
   ]
  },
  {
   "cell_type": "code",
   "execution_count": 65,
   "metadata": {},
   "outputs": [],
   "source": [
    "population_df = pd.read_csv(\"CSV_MASTERS/population_by_years.csv\")\n",
    "population_df = population_df[(population_df.year >= 1990) & (population_df.year <= 2010)]"
   ]
  },
  {
   "cell_type": "markdown",
   "metadata": {},
   "source": [
    "get the meteorite sightings per country within the time period"
   ]
  },
  {
   "cell_type": "code",
   "execution_count": 66,
   "metadata": {},
   "outputs": [],
   "source": [
    "columns = [    \n",
    "    \"country\",\n",
    "    \"2000_pop_thousands\", \n",
    "]\n",
    "\n",
    "strikes_per_country = pd.DataFrame(population_df.country.value_counts()).reset_index()\n",
    "strikes_per_country.columns = [\"country\", \"strikes\"]\n",
    "strikes_per_country\n",
    "country_populations = population_df[columns].drop_duplicates(subset=\"country\")\n",
    "\n",
    "strikes_around_2000 = country_populations.merge(strikes_per_country, on=\"country\").copy()[[\"country\", \"2000_pop_thousands\", \"strikes\"]]"
   ]
  },
  {
   "cell_type": "markdown",
   "metadata": {},
   "source": [
    "Divide the countries into two groups based on population. The division point is the median of the set populations"
   ]
  },
  {
   "cell_type": "code",
   "execution_count": 67,
   "metadata": {},
   "outputs": [
    {
     "name": "stdout",
     "output_type": "stream",
     "text": [
      "Smaller countries: < 19742000.0 | Larger Countries: > 19742000.0\n"
     ]
    }
   ],
   "source": [
    "median_pop = strikes_around_2000['2000_pop_thousands'].median()\n",
    "print(f\"Smaller countries: < {median_pop * 1000} | Larger Countries: > {median_pop * 1000}\")"
   ]
  },
  {
   "cell_type": "code",
   "execution_count": 70,
   "metadata": {},
   "outputs": [],
   "source": [
    "sm_countries_strikes = list(strikes_around_2000[strikes_around_2000[\"2000_pop_thousands\"] >= 20_000].strikes)\n",
    "large_countries_strikes = list(strikes_around_2000[strikes_around_2000[\"2000_pop_thousands\"] < 20_000].strikes)\n"
   ]
  },
  {
   "cell_type": "markdown",
   "metadata": {},
   "source": [
    "Compare the samples of meteorite sightings recorded by \"small\" countries to that of \"larger\" countries. "
   ]
  },
  {
   "cell_type": "code",
   "execution_count": 71,
   "metadata": {},
   "outputs": [
    {
     "data": {
      "text/plain": [
       "Ttest_indResult(statistic=-0.9699220336147, pvalue=0.338249483094495)"
      ]
     },
     "execution_count": 71,
     "metadata": {},
     "output_type": "execute_result"
    }
   ],
   "source": [
    "ttest_ind(sm_countries_strikes, large_countries_strikes, equal_var=False)"
   ]
  },
  {
   "cell_type": "markdown",
   "metadata": {},
   "source": [
    "based on the results of the t-test, it appears that the population of a country does not influence how many meteor strikes are recorded. "
   ]
  },
  {
   "cell_type": "code",
   "execution_count": 76,
   "metadata": {},
   "outputs": [],
   "source": [
    "import seaborn as sns\n",
    "import matplotlib.pyplot as plt\n",
    "import numpy as np\n",
    "\n",
    "sns.set()"
   ]
  },
  {
   "cell_type": "code",
   "execution_count": 154,
   "metadata": {},
   "outputs": [
    {
     "data": {
      "text/plain": [
       "([0, 1], <a list of 2 Text xticklabel objects>)"
      ]
     },
     "execution_count": 154,
     "metadata": {},
     "output_type": "execute_result"
    },
    {
     "data": {
      "image/png": "[encoded data removed]",
      "text/plain": [
       "<Figure size 720x360 with 1 Axes>"
      ]
     },
     "metadata": {},
     "output_type": "display_data"
    }
   ],
   "source": [
    "\n",
    "sm_mean = np.mean(sm_countries_strikes)\n",
    "lg_mean = np.mean(large_countries_strikes)\n",
    "\n",
    "plt.figure(figsize=(10,5))\n",
    "\n",
    "label_size = 20\n",
    "\n",
    "plt.bar((\"< 20 mil\", \"> 20 mil\"), (sm_mean, lg_mean))\n",
    "plt.title(\"Population to Number of Meteors Recorded (1990-2010)\", fontsize=18)\n",
    "plt.xlabel(\"Population\", fontsize=label_size)\n",
    "plt.ylabel(\"Num Meteors Recorded\", fontsize=label_size)\n",
    "plt.xticks(fontsize=14)"
   ]
  },
  {
   "cell_type": "code",
   "execution_count": 151,
   "metadata": {},
   "outputs": [
    {
     "data": {
      "text/plain": [
       "(-50, 3000)"
      ]
     },
     "execution_count": 151,
     "metadata": {},
     "output_type": "execute_result"
    },
    {
     "data": {
      "image/png": "[encoded data removed]",
      "text/plain": [
       "<Figure size 864x288 with 2 Axes>"
      ]
     },
     "metadata": {},
     "output_type": "display_data"
    }
   ],
   "source": [
    "fig = plt.figure(figsize=(12, 4))\n",
    "\n",
    "\n",
    "title_size = 16\n",
    "label_size = 16\n",
    "\n",
    "ax1 = fig.add_subplot(121)\n",
    "sns.swarmplot(x=sm_countries_strikes,  ax=ax1,orient='v')\n",
    "\n",
    "ax1.set_title(\"Countries with Pop. < 20 mil\", fontsize=title_size)\n",
    "ax1.set_ylabel(\"Num meteorites observed\\n(1990-2010)\", fontsize=label_size)\n",
    "ax1.set_ylim(-50,3000)\n",
    "\n",
    "ax2 = fig.add_subplot(122)\n",
    "sns.swarmplot(x=large_countries_strikes, ax=ax2, orient='v', color=\"#D98B5F\")\n",
    "\n",
    "ax2.set_title(\"Countries with Pop. > 20 mil\", fontsize=title_size)\n",
    "# ax2.set_ylabel(\"Num meteorites observed\", fontsize=label_size)\n",
    "ax2.set_ylim(-50,3000)"
   ]
  },
  {
   "cell_type": "code",
   "execution_count": null,
   "metadata": {},
   "outputs": [],
   "source": []
  }
 ],
 "metadata": {
  "kernelspec": {
   "display_name": "Python 3",
   "language": "python",
   "name": "python3"
  },
  "language_info": {
   "codemirror_mode": {
    "name": "ipython",
    "version": 3
   },
   "file_extension": ".py",
   "mimetype": "text/x-python",
   "name": "python",
   "nbconvert_exporter": "python",
   "pygments_lexer": "ipython3",
   "version": "3.7.3"
  }
 },
 "nbformat": 4,
 "nbformat_minor": 2
}
