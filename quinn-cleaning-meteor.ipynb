{
 "cells": [
  {
   "cell_type": "code",
   "execution_count": 1,
   "metadata": {},
   "outputs": [],
   "source": [
    "import numpy as np \n",
    "import pandas as pd\n",
    "import pdb\n",
    "import requests\n",
    "\n",
    "from Classifications import *\n",
    "from keys import *"
   ]
  },
  {
   "cell_type": "code",
   "execution_count": 2,
   "metadata": {},
   "outputs": [],
   "source": [
    "df = pd.read_csv(\"Meteorite_Landings.csv\")\n",
    "df.columns = ['name', 'id', 'nametype', 'recclass', 'mass', 'fall', 'year',\n",
    "       'reclat', 'reclong', 'GeoLocation']"
   ]
  },
  {
   "cell_type": "markdown",
   "metadata": {},
   "source": [
    "### Drop mass NaNs & 0.0"
   ]
  },
  {
   "cell_type": "code",
   "execution_count": 3,
   "metadata": {},
   "outputs": [
    {
     "data": {
      "text/plain": [
       "(45566, 10)"
      ]
     },
     "execution_count": 3,
     "metadata": {},
     "output_type": "execute_result"
    }
   ],
   "source": [
    "df = df[(df.mass > 0.0) & (df.mass.isna() == False)]\n",
    "df.shape"
   ]
  },
  {
   "cell_type": "markdown",
   "metadata": {},
   "source": [
    "## Classifications"
   ]
  },
  {
   "cell_type": "code",
   "execution_count": 4,
   "metadata": {},
   "outputs": [],
   "source": [
    "df = Classifications.classify_subclasses(df)"
   ]
  },
  {
   "cell_type": "code",
   "execution_count": 5,
   "metadata": {},
   "outputs": [
    {
     "data": {
      "text/plain": [
       "Chondrite        42032\n",
       "Achondrite        2178\n",
       "Iron              1041\n",
       "Stony-Iron         311\n",
       "uncategorized        4\n",
       "Name: major_classification, dtype: int64"
      ]
     },
     "execution_count": 5,
     "metadata": {},
     "output_type": "execute_result"
    }
   ],
   "source": [
    "df.major_classification.value_counts()"
   ]
  },
  {
   "cell_type": "code",
   "execution_count": 6,
   "metadata": {},
   "outputs": [
    {
     "data": {
      "text/html": [
       "<div>\n",
       "<style scoped>\n",
       "    .dataframe tbody tr th:only-of-type {\n",
       "        vertical-align: middle;\n",
       "    }\n",
       "\n",
       "    .dataframe tbody tr th {\n",
       "        vertical-align: top;\n",
       "    }\n",
       "\n",
       "    .dataframe thead th {\n",
       "        text-align: right;\n",
       "    }\n",
       "</style>\n",
       "<table border=\"1\" class=\"dataframe\">\n",
       "  <thead>\n",
       "    <tr style=\"text-align: right;\">\n",
       "      <th></th>\n",
       "      <th>id</th>\n",
       "      <th>mass</th>\n",
       "      <th>reclat</th>\n",
       "      <th>reclong</th>\n",
       "    </tr>\n",
       "    <tr>\n",
       "      <th>major_classification</th>\n",
       "      <th></th>\n",
       "      <th></th>\n",
       "      <th></th>\n",
       "      <th></th>\n",
       "    </tr>\n",
       "  </thead>\n",
       "  <tbody>\n",
       "    <tr>\n",
       "      <th>Achondrite</th>\n",
       "      <td>30896.449954</td>\n",
       "      <td>2832.684123</td>\n",
       "      <td>-24.225972</td>\n",
       "      <td>37.769330</td>\n",
       "    </tr>\n",
       "    <tr>\n",
       "      <th>Chondrite</th>\n",
       "      <td>26885.663114</td>\n",
       "      <td>1522.094561</td>\n",
       "      <td>-41.663357</td>\n",
       "      <td>64.302098</td>\n",
       "    </tr>\n",
       "    <tr>\n",
       "      <th>Iron</th>\n",
       "      <td>17997.889529</td>\n",
       "      <td>494262.887233</td>\n",
       "      <td>8.131944</td>\n",
       "      <td>-6.022987</td>\n",
       "    </tr>\n",
       "    <tr>\n",
       "      <th>Stony-Iron</th>\n",
       "      <td>28007.141479</td>\n",
       "      <td>66261.350830</td>\n",
       "      <td>-2.451259</td>\n",
       "      <td>37.426869</td>\n",
       "    </tr>\n",
       "    <tr>\n",
       "      <th>uncategorized</th>\n",
       "      <td>43302.500000</td>\n",
       "      <td>0.078250</td>\n",
       "      <td>-79.683330</td>\n",
       "      <td>159.750000</td>\n",
       "    </tr>\n",
       "  </tbody>\n",
       "</table>\n",
       "</div>"
      ],
      "text/plain": [
       "                                id           mass     reclat     reclong\n",
       "major_classification                                                    \n",
       "Achondrite            30896.449954    2832.684123 -24.225972   37.769330\n",
       "Chondrite             26885.663114    1522.094561 -41.663357   64.302098\n",
       "Iron                  17997.889529  494262.887233   8.131944   -6.022987\n",
       "Stony-Iron            28007.141479   66261.350830  -2.451259   37.426869\n",
       "uncategorized         43302.500000       0.078250 -79.683330  159.750000"
      ]
     },
     "execution_count": 6,
     "metadata": {},
     "output_type": "execute_result"
    }
   ],
   "source": [
    "df.groupby('major_classification').mean()"
   ]
  },
  {
   "cell_type": "markdown",
   "metadata": {},
   "source": [
    "## Country Coordinates"
   ]
  },
  {
   "cell_type": "code",
   "execution_count": null,
   "metadata": {},
   "outputs": [],
   "source": [
    "lat, long = (0.0, 0.0)\n",
    "latlng = f\"{lat},{long}\"\n",
    "\n",
    "req_str = f\"https://maps.googleapis.com/maps/api/geocode/json?latlng={latlng}&key={keys['mapsAPI']}\"\n",
    "\n",
    "# resp = requests.get(req_str).json()\n",
    "# print(resp)\n",
    "# for r in resp['results']:\n",
    "#     if \"country\" in r['types']:\n",
    "#         print(r['address_components'][0]['long_name'], \"\\n\")\n",
    "#         break"
   ]
  },
  {
   "cell_type": "code",
   "execution_count": 7,
   "metadata": {},
   "outputs": [
    {
     "data": {
      "text/html": [
       "<div>\n",
       "<style scoped>\n",
       "    .dataframe tbody tr th:only-of-type {\n",
       "        vertical-align: middle;\n",
       "    }\n",
       "\n",
       "    .dataframe tbody tr th {\n",
       "        vertical-align: top;\n",
       "    }\n",
       "\n",
       "    .dataframe thead th {\n",
       "        text-align: right;\n",
       "    }\n",
       "</style>\n",
       "<table border=\"1\" class=\"dataframe\">\n",
       "  <thead>\n",
       "    <tr style=\"text-align: right;\">\n",
       "      <th></th>\n",
       "      <th>index</th>\n",
       "      <th>name</th>\n",
       "      <th>id</th>\n",
       "      <th>nametype</th>\n",
       "      <th>recclass</th>\n",
       "      <th>mass</th>\n",
       "      <th>fall</th>\n",
       "      <th>year</th>\n",
       "      <th>reclat</th>\n",
       "      <th>reclong</th>\n",
       "      <th>GeoLocation</th>\n",
       "      <th>major_classification</th>\n",
       "      <th>subclass_category</th>\n",
       "    </tr>\n",
       "  </thead>\n",
       "  <tbody>\n",
       "    <tr>\n",
       "      <th>0</th>\n",
       "      <td>0</td>\n",
       "      <td>Aachen</td>\n",
       "      <td>1</td>\n",
       "      <td>Valid</td>\n",
       "      <td>L5</td>\n",
       "      <td>21.0</td>\n",
       "      <td>Fell</td>\n",
       "      <td>01/01/1880 12:00:00 AM</td>\n",
       "      <td>50.77500</td>\n",
       "      <td>6.08333</td>\n",
       "      <td>(50.775, 6.08333)</td>\n",
       "      <td>Chondrite</td>\n",
       "      <td>L</td>\n",
       "    </tr>\n",
       "    <tr>\n",
       "      <th>1</th>\n",
       "      <td>1</td>\n",
       "      <td>Aarhus</td>\n",
       "      <td>2</td>\n",
       "      <td>Valid</td>\n",
       "      <td>H6</td>\n",
       "      <td>720.0</td>\n",
       "      <td>Fell</td>\n",
       "      <td>01/01/1951 12:00:00 AM</td>\n",
       "      <td>56.18333</td>\n",
       "      <td>10.23333</td>\n",
       "      <td>(56.18333, 10.23333)</td>\n",
       "      <td>Chondrite</td>\n",
       "      <td>H</td>\n",
       "    </tr>\n",
       "    <tr>\n",
       "      <th>2</th>\n",
       "      <td>2</td>\n",
       "      <td>Abee</td>\n",
       "      <td>6</td>\n",
       "      <td>Valid</td>\n",
       "      <td>EH4</td>\n",
       "      <td>107000.0</td>\n",
       "      <td>Fell</td>\n",
       "      <td>01/01/1952 12:00:00 AM</td>\n",
       "      <td>54.21667</td>\n",
       "      <td>-113.00000</td>\n",
       "      <td>(54.21667, -113.0)</td>\n",
       "      <td>Chondrite</td>\n",
       "      <td>E</td>\n",
       "    </tr>\n",
       "    <tr>\n",
       "      <th>3</th>\n",
       "      <td>3</td>\n",
       "      <td>Acapulco</td>\n",
       "      <td>10</td>\n",
       "      <td>Valid</td>\n",
       "      <td>Acapulcoite</td>\n",
       "      <td>1914.0</td>\n",
       "      <td>Fell</td>\n",
       "      <td>01/01/1976 12:00:00 AM</td>\n",
       "      <td>16.88333</td>\n",
       "      <td>-99.90000</td>\n",
       "      <td>(16.88333, -99.9)</td>\n",
       "      <td>Achondrite</td>\n",
       "      <td>Acapulcoite</td>\n",
       "    </tr>\n",
       "    <tr>\n",
       "      <th>4</th>\n",
       "      <td>4</td>\n",
       "      <td>Achiras</td>\n",
       "      <td>370</td>\n",
       "      <td>Valid</td>\n",
       "      <td>L6</td>\n",
       "      <td>780.0</td>\n",
       "      <td>Fell</td>\n",
       "      <td>01/01/1902 12:00:00 AM</td>\n",
       "      <td>-33.16667</td>\n",
       "      <td>-64.95000</td>\n",
       "      <td>(-33.16667, -64.95)</td>\n",
       "      <td>Chondrite</td>\n",
       "      <td>L</td>\n",
       "    </tr>\n",
       "  </tbody>\n",
       "</table>\n",
       "</div>"
      ],
      "text/plain": [
       "   index      name   id nametype     recclass      mass  fall  \\\n",
       "0      0    Aachen    1    Valid           L5      21.0  Fell   \n",
       "1      1    Aarhus    2    Valid           H6     720.0  Fell   \n",
       "2      2      Abee    6    Valid          EH4  107000.0  Fell   \n",
       "3      3  Acapulco   10    Valid  Acapulcoite    1914.0  Fell   \n",
       "4      4   Achiras  370    Valid           L6     780.0  Fell   \n",
       "\n",
       "                     year    reclat    reclong           GeoLocation  \\\n",
       "0  01/01/1880 12:00:00 AM  50.77500    6.08333     (50.775, 6.08333)   \n",
       "1  01/01/1951 12:00:00 AM  56.18333   10.23333  (56.18333, 10.23333)   \n",
       "2  01/01/1952 12:00:00 AM  54.21667 -113.00000    (54.21667, -113.0)   \n",
       "3  01/01/1976 12:00:00 AM  16.88333  -99.90000     (16.88333, -99.9)   \n",
       "4  01/01/1902 12:00:00 AM -33.16667  -64.95000   (-33.16667, -64.95)   \n",
       "\n",
       "  major_classification subclass_category  \n",
       "0            Chondrite                 L  \n",
       "1            Chondrite                 H  \n",
       "2            Chondrite                 E  \n",
       "3           Achondrite       Acapulcoite  \n",
       "4            Chondrite                 L  "
      ]
     },
     "execution_count": 7,
     "metadata": {},
     "output_type": "execute_result"
    }
   ],
   "source": [
    "geo_df = df[(df.reclat.isna() == False) \n",
    "            & (df.reclong.isna() == False) \n",
    "            & (df.GeoLocation != '(0.0, 0.0)') # ocean placeholder\n",
    "            & (df.GeoLocation != '(-71.5, 35.66667)') # antarctica 1\n",
    "            & (df.GeoLocation != '(-84.0, 168.0)') # antarctice 2\n",
    "           ]\n",
    "\n",
    "geo_df.reset_index(inplace=True)\n",
    "geo_df.head()"
   ]
  },
  {
   "cell_type": "code",
   "execution_count": 8,
   "metadata": {},
   "outputs": [
    {
     "data": {
      "text/html": [
       "<div>\n",
       "<style scoped>\n",
       "    .dataframe tbody tr th:only-of-type {\n",
       "        vertical-align: middle;\n",
       "    }\n",
       "\n",
       "    .dataframe tbody tr th {\n",
       "        vertical-align: top;\n",
       "    }\n",
       "\n",
       "    .dataframe thead th {\n",
       "        text-align: right;\n",
       "    }\n",
       "</style>\n",
       "<table border=\"1\" class=\"dataframe\">\n",
       "  <thead>\n",
       "    <tr style=\"text-align: right;\">\n",
       "      <th></th>\n",
       "      <th>id</th>\n",
       "      <th>mass</th>\n",
       "      <th>reclat</th>\n",
       "      <th>reclong</th>\n",
       "    </tr>\n",
       "    <tr>\n",
       "      <th>major_classification</th>\n",
       "      <th></th>\n",
       "      <th></th>\n",
       "      <th></th>\n",
       "      <th></th>\n",
       "    </tr>\n",
       "  </thead>\n",
       "  <tbody>\n",
       "    <tr>\n",
       "      <th>Achondrite</th>\n",
       "      <td>26280.362245</td>\n",
       "      <td>187.689796</td>\n",
       "      <td>-73.285714</td>\n",
       "      <td>54.571431</td>\n",
       "    </tr>\n",
       "    <tr>\n",
       "      <th>Chondrite</th>\n",
       "      <td>24842.045527</td>\n",
       "      <td>76.233004</td>\n",
       "      <td>-76.453484</td>\n",
       "      <td>88.107550</td>\n",
       "    </tr>\n",
       "    <tr>\n",
       "      <th>Iron</th>\n",
       "      <td>26194.250000</td>\n",
       "      <td>2082.552500</td>\n",
       "      <td>-72.541667</td>\n",
       "      <td>46.694448</td>\n",
       "    </tr>\n",
       "    <tr>\n",
       "      <th>Stony-Iron</th>\n",
       "      <td>23465.714286</td>\n",
       "      <td>16.765714</td>\n",
       "      <td>-78.642857</td>\n",
       "      <td>111.285716</td>\n",
       "    </tr>\n",
       "  </tbody>\n",
       "</table>\n",
       "</div>"
      ],
      "text/plain": [
       "                                id         mass     reclat     reclong\n",
       "major_classification                                                  \n",
       "Achondrite            26280.362245   187.689796 -73.285714   54.571431\n",
       "Chondrite             24842.045527    76.233004 -76.453484   88.107550\n",
       "Iron                  26194.250000  2082.552500 -72.541667   46.694448\n",
       "Stony-Iron            23465.714286    16.765714 -78.642857  111.285716"
      ]
     },
     "execution_count": 8,
     "metadata": {},
     "output_type": "execute_result"
    }
   ],
   "source": [
    "antarctic_df = df[(df.GeoLocation == '(-71.5, 35.66667)') | (df.GeoLocation == '(-84.0, 168.0)')]\n",
    "antarctic_df.groupby('major_classification').mean()"
   ]
  },
  {
   "cell_type": "code",
   "execution_count": 11,
   "metadata": {},
   "outputs": [
    {
     "data": {
      "text/plain": [
       "(17062, 5)"
      ]
     },
     "execution_count": 11,
     "metadata": {},
     "output_type": "execute_result"
    }
   ],
   "source": [
    "test = pd.read_csv(\"countries.csv\")\n",
    "test.shape\n",
    "# geo_df.merge(test, on=\"id\", how='outer')"
   ]
  },
  {
   "cell_type": "code",
   "execution_count": 28,
   "metadata": {},
   "outputs": [],
   "source": [
    "# import math\n",
    "# for i in range(math.ceil(geo_df.shape[0] / 1000)):\n",
    "#     file = f\"countries/countries-{i}.csv\"\n",
    "#     with open(file, \"w\") as f:\n",
    "#         f.write(\"id, reclat, reclong, country, country_abrv\\n\")\n",
    "    \n",
    "    #     !type nul > {file}  \n",
    "# my_str = f\"countries/{i}.csv\"\n",
    "# !type nul > {my_str}"
   ]
  },
  {
   "cell_type": "code",
   "execution_count": 34,
   "metadata": {},
   "outputs": [],
   "source": [
    "import csv\n",
    "def get_countries(df, start_idx):\n",
    "    countries = []\n",
    "    for i in range(start_idx, df.shape[0]):\n",
    "        \n",
    "        file = f\"countries/countries-{(i // 1000)}.csv\"\n",
    "        \n",
    "        row_id, lat, lng = (df.id[i], df.reclat[i], df.reclong[i])\n",
    "        \n",
    "        req_str = f\"https://maps.googleapis.com/maps/api/geocode/json?latlng={lat},{lng}&key={keys['mapsAPI']}\"\n",
    "\n",
    "        resp = requests.get(req_str).json()\n",
    "\n",
    "        for r in resp['results']:\n",
    "            if \"country\" in r['types']:\n",
    "                country = r['address_components'][0]['long_name']\n",
    "                country_short_name = r['address_components'][0]['short_name']\n",
    "        \n",
    "        try:    \n",
    "            with open(file, 'a') as countries:\n",
    "                country_writer = csv.writer(countries, delimiter=',', quotechar='\"', quoting=csv.QUOTE_MINIMAL)\n",
    "\n",
    "                country_writer.writerow([row_id, lat, lng, country, country_short_name])\n",
    "        except:\n",
    "            print(i)\n",
    "            return\n",
    "        \n",
    "\n",
    "\n",
    "# UNCOMMENT TO RUN API CALLS\n",
    "# get_countries(geo_df[17062:].reset_index())\n",
    "get_countries(geo_df.reset_index(), start_idx=0)"
   ]
  },
  {
   "cell_type": "code",
   "execution_count": null,
   "metadata": {},
   "outputs": [],
   "source": [
    "df_test['country'] = countries\n",
    "df_test"
   ]
  },
  {
   "cell_type": "code",
   "execution_count": null,
   "metadata": {},
   "outputs": [],
   "source": []
  }
 ],
 "metadata": {
  "kernelspec": {
   "display_name": "Python 3",
   "language": "python",
   "name": "python3"
  },
  "language_info": {
   "codemirror_mode": {
    "name": "ipython",
    "version": 3
   },
   "file_extension": ".py",
   "mimetype": "text/x-python",
   "name": "python",
   "nbconvert_exporter": "python",
   "pygments_lexer": "ipython3",
   "version": "3.7.3"
  }
 },
 "nbformat": 4,
 "nbformat_minor": 2
}
