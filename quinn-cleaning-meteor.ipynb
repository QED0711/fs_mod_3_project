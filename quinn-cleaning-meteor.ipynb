{
 "cells": [
  {
   "cell_type": "code",
   "execution_count": 1,
   "metadata": {},
   "outputs": [],
   "source": [
    "import numpy as np \n",
    "import pandas as pd\n",
    "import pdb\n",
    "\n",
    "from Classifications import *"
   ]
  },
  {
   "cell_type": "code",
   "execution_count": 2,
   "metadata": {},
   "outputs": [],
   "source": [
    "df = pd.read_csv(\"Meteorite_Landings.csv\")\n",
    "df.columns = ['name', 'id', 'nametype', 'recclass', 'mass', 'fall', 'year',\n",
    "       'reclat', 'reclong', 'GeoLocation']"
   ]
  },
  {
   "cell_type": "markdown",
   "metadata": {},
   "source": [
    "### Drop mass NaNs & 0.0"
   ]
  },
  {
   "cell_type": "code",
   "execution_count": 3,
   "metadata": {},
   "outputs": [
    {
     "data": {
      "text/plain": [
       "(45566, 10)"
      ]
     },
     "execution_count": 3,
     "metadata": {},
     "output_type": "execute_result"
    }
   ],
   "source": [
    "df = df[(df.mass > 0.0) & (df.mass.isna() == False)]\n",
    "df.shape"
   ]
  },
  {
   "cell_type": "markdown",
   "metadata": {},
   "source": [
    "## Classifications"
   ]
  },
  {
   "cell_type": "code",
   "execution_count": 9,
   "metadata": {},
   "outputs": [],
   "source": [
    "df = Classifications.classify_subclasses(df)"
   ]
  },
  {
   "cell_type": "code",
   "execution_count": 10,
   "metadata": {},
   "outputs": [
    {
     "data": {
      "text/plain": [
       "Chondrite        42032\n",
       "Achondrite        2178\n",
       "Iron              1041\n",
       "Stony-Iron         311\n",
       "uncategorized        4\n",
       "Name: major_classification, dtype: int64"
      ]
     },
     "execution_count": 10,
     "metadata": {},
     "output_type": "execute_result"
    }
   ],
   "source": [
    "df.major_classification.value_counts()"
   ]
  },
  {
   "cell_type": "code",
   "execution_count": 15,
   "metadata": {},
   "outputs": [
    {
     "data": {
      "text/html": [
       "<div>\n",
       "<style scoped>\n",
       "    .dataframe tbody tr th:only-of-type {\n",
       "        vertical-align: middle;\n",
       "    }\n",
       "\n",
       "    .dataframe tbody tr th {\n",
       "        vertical-align: top;\n",
       "    }\n",
       "\n",
       "    .dataframe thead th {\n",
       "        text-align: right;\n",
       "    }\n",
       "</style>\n",
       "<table border=\"1\" class=\"dataframe\">\n",
       "  <thead>\n",
       "    <tr style=\"text-align: right;\">\n",
       "      <th></th>\n",
       "      <th>id</th>\n",
       "      <th>mass</th>\n",
       "      <th>reclat</th>\n",
       "      <th>reclong</th>\n",
       "    </tr>\n",
       "    <tr>\n",
       "      <th>major_classification</th>\n",
       "      <th></th>\n",
       "      <th></th>\n",
       "      <th></th>\n",
       "      <th></th>\n",
       "    </tr>\n",
       "  </thead>\n",
       "  <tbody>\n",
       "    <tr>\n",
       "      <th>Achondrite</th>\n",
       "      <td>30896.449954</td>\n",
       "      <td>2832.684123</td>\n",
       "      <td>-24.225972</td>\n",
       "      <td>37.769330</td>\n",
       "    </tr>\n",
       "    <tr>\n",
       "      <th>Chondrite</th>\n",
       "      <td>26885.663114</td>\n",
       "      <td>1522.094561</td>\n",
       "      <td>-41.663357</td>\n",
       "      <td>64.302098</td>\n",
       "    </tr>\n",
       "    <tr>\n",
       "      <th>Iron</th>\n",
       "      <td>17997.889529</td>\n",
       "      <td>494262.887233</td>\n",
       "      <td>8.131944</td>\n",
       "      <td>-6.022987</td>\n",
       "    </tr>\n",
       "    <tr>\n",
       "      <th>Stony-Iron</th>\n",
       "      <td>28007.141479</td>\n",
       "      <td>66261.350830</td>\n",
       "      <td>-2.451259</td>\n",
       "      <td>37.426869</td>\n",
       "    </tr>\n",
       "    <tr>\n",
       "      <th>uncategorized</th>\n",
       "      <td>43302.500000</td>\n",
       "      <td>0.078250</td>\n",
       "      <td>-79.683330</td>\n",
       "      <td>159.750000</td>\n",
       "    </tr>\n",
       "  </tbody>\n",
       "</table>\n",
       "</div>"
      ],
      "text/plain": [
       "                                id           mass     reclat     reclong\n",
       "major_classification                                                    \n",
       "Achondrite            30896.449954    2832.684123 -24.225972   37.769330\n",
       "Chondrite             26885.663114    1522.094561 -41.663357   64.302098\n",
       "Iron                  17997.889529  494262.887233   8.131944   -6.022987\n",
       "Stony-Iron            28007.141479   66261.350830  -2.451259   37.426869\n",
       "uncategorized         43302.500000       0.078250 -79.683330  159.750000"
      ]
     },
     "execution_count": 15,
     "metadata": {},
     "output_type": "execute_result"
    }
   ],
   "source": [
    "df.groupby('major_classification').mean()"
   ]
  },
  {
   "cell_type": "code",
   "execution_count": null,
   "metadata": {},
   "outputs": [],
   "source": []
  },
  {
   "cell_type": "code",
   "execution_count": null,
   "metadata": {},
   "outputs": [],
   "source": []
  },
  {
   "cell_type": "code",
   "execution_count": null,
   "metadata": {},
   "outputs": [],
   "source": []
  }
 ],
 "metadata": {
  "kernelspec": {
   "display_name": "Python 3",
   "language": "python",
   "name": "python3"
  },
  "language_info": {
   "codemirror_mode": {
    "name": "ipython",
    "version": 3
   },
   "file_extension": ".py",
   "mimetype": "text/x-python",
   "name": "python",
   "nbconvert_exporter": "python",
   "pygments_lexer": "ipython3",
   "version": "3.7.3"
  }
 },
 "nbformat": 4,
 "nbformat_minor": 2
}
